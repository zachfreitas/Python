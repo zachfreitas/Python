{
 "cells": [
  {
   "attachments": {},
   "cell_type": "markdown",
   "metadata": {},
   "source": [
    "# Python Type Annotations & Hinting\n",
    "\n",
    "Type hinting is not enforced by Python. You can enforce it with outside packages, such as Mypy or with your Python IDE.\n",
    "\n",
    "Type hinting is most useful when you have a large team you are working with or with a large codebase.\n",
    "\n",
    "Type hinting is also useful for introspection when creating Python packages"
   ]
  },
  {
   "attachments": {},
   "cell_type": "markdown",
   "metadata": {},
   "source": [
    "## Type Annotations, \n",
    "As defined by PEP 526:\n",
    "https://www.python.org/dev/peps/pep-0526/\n",
    "\n",
    "These are best unsed in class varibles.\n",
    "\n"
   ]
  },
  {
   "cell_type": "code",
   "execution_count": 3,
   "metadata": {},
   "outputs": [],
   "source": [
    "# Here are some examples of using type hinting variables in Python\n",
    "x: int # a variable named x without initialization. You have to \n",
    "y: float = 1.0 # a variable named y, initialized to 1.0\n",
    "z: bool = False # a variable named z, initialized to False\n",
    "a: str = 'Hello type hinting' # a variable named a, initialized to 'Hello type hinting'"
   ]
  },
  {
   "cell_type": "code",
   "execution_count": 10,
   "metadata": {},
   "outputs": [
    {
     "ename": "NameError",
     "evalue": "name 'x' is not defined",
     "output_type": "error",
     "traceback": [
      "\u001b[1;31m---------------------------------------------------------------------------\u001b[0m",
      "\u001b[1;31mNameError\u001b[0m                                 Traceback (most recent call last)",
      "Cell \u001b[1;32mIn[10], line 1\u001b[0m\n\u001b[1;32m----> 1\u001b[0m x\u001b[39m.\u001b[39m\u001b[39m__init__\u001b[39m()\n",
      "\u001b[1;31mNameError\u001b[0m: name 'x' is not defined"
     ]
    }
   ],
   "source": [
    "x.__init__()"
   ]
  },
  {
   "attachments": {},
   "cell_type": "markdown",
   "metadata": {},
   "source": [
    "## Type Hints\n",
    "as defined by PEP 428:\n",
    "https://www.python.org/dev/peps/pep-0484/\n"
   ]
  },
  {
   "cell_type": "code",
   "execution_count": 2,
   "metadata": {},
   "outputs": [],
   "source": [
    "# You can also type hint functions and methods.\n",
    "# Here is a simple example of type hinting some function arguments and the return value\n",
    "def adder(x: int, y: int) -> None: # x and y are integers, return value is None\n",
    "    print(f'The total of {x} and {y} is {x + y}')"
   ]
  },
  {
   "cell_type": "code",
   "execution_count": null,
   "metadata": {},
   "outputs": [],
   "source": []
  }
 ],
 "metadata": {
  "kernelspec": {
   "display_name": "Python 3",
   "language": "python",
   "name": "python3"
  },
  "language_info": {
   "codemirror_mode": {
    "name": "ipython",
    "version": 3
   },
   "file_extension": ".py",
   "mimetype": "text/x-python",
   "name": "python",
   "nbconvert_exporter": "python",
   "pygments_lexer": "ipython3",
   "version": "3.11.2"
  },
  "orig_nbformat": 4
 },
 "nbformat": 4,
 "nbformat_minor": 2
}
